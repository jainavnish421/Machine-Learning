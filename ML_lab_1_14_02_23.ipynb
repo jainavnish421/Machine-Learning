{
  "nbformat": 4,
  "nbformat_minor": 0,
  "metadata": {
    "colab": {
      "provenance": [],
      "authorship_tag": "ABX9TyPyksh9tWrIkmfmXhiqjV5J",
      "include_colab_link": true
    },
    "kernelspec": {
      "name": "python3",
      "display_name": "Python 3"
    },
    "language_info": {
      "name": "python"
    }
  },
  "cells": [
    {
      "cell_type": "markdown",
      "metadata": {
        "id": "view-in-github",
        "colab_type": "text"
      },
      "source": [
        "<a href=\"https://colab.research.google.com/github/jainavnish421/Machine-Learning/blob/main/ML_lab_1_14_02_23.ipynb\" target=\"_parent\"><img src=\"https://colab.research.google.com/assets/colab-badge.svg\" alt=\"Open In Colab\"/></a>"
      ]
    },
    {
      "cell_type": "code",
      "execution_count": 32,
      "metadata": {
        "id": "xnTIW5d2Ifqv",
        "colab": {
          "base_uri": "https://localhost:8080/",
          "height": 0
        },
        "outputId": "5527fd40-8f17-4605-bf7d-ba4069f057dd"
      },
      "outputs": [
        {
          "output_type": "stream",
          "name": "stdout",
          "text": [
            "Enter your value: 4\n",
            "Square of  1  is  1\n",
            "Square of  2  is  4\n",
            "Square of  3  is  9\n",
            "Square of  4  is  16\n"
          ]
        }
      ],
      "source": [
        "# 14/02/2023\n",
        "\n",
        "# square of any natural no.\n",
        "val = int(input(\"Enter your value: \"))\n",
        "for x in range(1,val+1):\n",
        "  print('Square of ',x,' is ', pow(x,2))\n"
      ]
    },
    {
      "cell_type": "code",
      "source": [
        "# 14/02/2023\n",
        "\n",
        "# count no. of spaces in string\n",
        "\n",
        "st=('I am Avnish Jain')\n",
        "li=[0 for i in range(len(st)) if st[i]==' ']\n",
        "print(len(li))"
      ],
      "metadata": {
        "id": "cqj5W0-tQbX_"
      },
      "execution_count": null,
      "outputs": []
    },
    {
      "cell_type": "code",
      "source": [
        "# 14/02/2023\n",
        "\n",
        "# print table of 5 using list\n",
        "for x in range(1,10+1):\n",
        "  print('5 x',x,' = ',5*x)"
      ],
      "metadata": {
        "id": "wzno0vXDQsMv",
        "colab": {
          "base_uri": "https://localhost:8080/",
          "height": 0
        },
        "outputId": "5fae0c75-5f55-48b7-d9d4-16281a4aa3ed"
      },
      "execution_count": 34,
      "outputs": [
        {
          "output_type": "stream",
          "name": "stdout",
          "text": [
            "5 x 1  =  5\n",
            "5 x 2  =  10\n",
            "5 x 3  =  15\n",
            "5 x 4  =  20\n",
            "5 x 5  =  25\n",
            "5 x 6  =  30\n",
            "5 x 7  =  35\n",
            "5 x 8  =  40\n",
            "5 x 9  =  45\n",
            "5 x 10  =  50\n"
          ]
        }
      ]
    },
    {
      "cell_type": "code",
      "source": [
        "# 15/02/2023\n",
        "\n",
        "#count number of 6 between 1 to 1000\n",
        "count = 0\n",
        "for i in range(1, 1001):\n",
        "    count += str(i).count('6')\n",
        "print(count)\n"
      ],
      "metadata": {
        "id": "q2HudyZ-r8xL",
        "colab": {
          "base_uri": "https://localhost:8080/",
          "height": 0
        },
        "outputId": "00c015d0-3130-436a-c857-8c20c175085f"
      },
      "execution_count": 35,
      "outputs": [
        {
          "output_type": "stream",
          "name": "stdout",
          "text": [
            "300\n"
          ]
        }
      ]
    },
    {
      "cell_type": "code",
      "source": [
        "# 15/02/2023\n",
        "\n",
        "# Find number between 1 to 1000 divisible by 2 & 5\n",
        "for x in range(1,1000):\n",
        "  if (x%2==0):\n",
        "    if (x%5==0):\n",
        "      print(x)\n"
      ],
      "metadata": {
        "id": "JjLhZQKTtEiI",
        "colab": {
          "base_uri": "https://localhost:8080/",
          "height": 0
        },
        "outputId": "1baad0ea-4f1f-44bf-89fe-cc4adaf922ef"
      },
      "execution_count": 36,
      "outputs": [
        {
          "output_type": "stream",
          "name": "stdout",
          "text": [
            "10\n",
            "20\n",
            "30\n",
            "40\n",
            "50\n",
            "60\n",
            "70\n",
            "80\n",
            "90\n",
            "100\n",
            "110\n",
            "120\n",
            "130\n",
            "140\n",
            "150\n",
            "160\n",
            "170\n",
            "180\n",
            "190\n",
            "200\n",
            "210\n",
            "220\n",
            "230\n",
            "240\n",
            "250\n",
            "260\n",
            "270\n",
            "280\n",
            "290\n",
            "300\n",
            "310\n",
            "320\n",
            "330\n",
            "340\n",
            "350\n",
            "360\n",
            "370\n",
            "380\n",
            "390\n",
            "400\n",
            "410\n",
            "420\n",
            "430\n",
            "440\n",
            "450\n",
            "460\n",
            "470\n",
            "480\n",
            "490\n",
            "500\n",
            "510\n",
            "520\n",
            "530\n",
            "540\n",
            "550\n",
            "560\n",
            "570\n",
            "580\n",
            "590\n",
            "600\n",
            "610\n",
            "620\n",
            "630\n",
            "640\n",
            "650\n",
            "660\n",
            "670\n",
            "680\n",
            "690\n",
            "700\n",
            "710\n",
            "720\n",
            "730\n",
            "740\n",
            "750\n",
            "760\n",
            "770\n",
            "780\n",
            "790\n",
            "800\n",
            "810\n",
            "820\n",
            "830\n",
            "840\n",
            "850\n",
            "860\n",
            "870\n",
            "880\n",
            "890\n",
            "900\n",
            "910\n",
            "920\n",
            "930\n",
            "940\n",
            "950\n",
            "960\n",
            "970\n",
            "980\n",
            "990\n"
          ]
        }
      ]
    },
    {
      "cell_type": "markdown",
      "source": [
        "Importing Dataset"
      ],
      "metadata": {
        "id": "f1UtcuQfpcQ4"
      }
    },
    {
      "cell_type": "code",
      "source": [
        "# 14/02/2023\n",
        "\n",
        "# Data processing tool\n",
        "import numpy as np\n",
        "import matplotlib.pyplot as plt\n",
        "import pandas as pd\n",
        "\n",
        "dataset = pd.read_csv('Data.csv')\n",
        "x=dataset.iloc[:,:-1].values\n",
        "y=dataset.iloc[:,-2].values\n",
        "\n",
        "print(x)\n",
        "print(y)"
      ],
      "metadata": {
        "id": "wgcEMgVETrVd",
        "colab": {
          "base_uri": "https://localhost:8080/",
          "height": 0
        },
        "outputId": "55fd679d-358f-4bf6-d0bf-c60a91c938f1"
      },
      "execution_count": 37,
      "outputs": [
        {
          "output_type": "stream",
          "name": "stdout",
          "text": [
            "[[1 'France' 44.0 72000.0 'No']\n",
            " [2 'Spain' 27.0 48000.0 'Yes']\n",
            " [3 'Germany' 30.0 54000.0 'No']\n",
            " [4 'Spain' 38.0 61000.0 'No']\n",
            " [5 'Germany' 40.0 nan 'Yes']\n",
            " [6 'France' 35.0 58000.0 'Yes']\n",
            " [7 'Spain' nan 52000.0 'No']\n",
            " [8 'France' 48.0 79000.0 'Yes']\n",
            " [9 'Germany' 50.0 83000.0 'No']\n",
            " [10 'France' 37.0 67000.0 'Yes']]\n",
            "['No' 'Yes' 'No' 'No' 'Yes' 'Yes' 'No' 'Yes' 'No' 'Yes']\n"
          ]
        }
      ]
    },
    {
      "cell_type": "markdown",
      "source": [
        "Taking Care of missing data"
      ],
      "metadata": {
        "id": "ferYTHTsph3n"
      }
    },
    {
      "cell_type": "code",
      "source": [
        "from sklearn.impute import SimpleImputer\n",
        "imputer = SimpleImputer(missing_values = np.nan, strategy='mean')\n",
        "imputer.fit(X[:, 2:5])\n",
        "X[: ,2:5] = imputer.transform(X[:, 2:5])"
      ],
      "metadata": {
        "id": "wIjOjTBXprLY"
      },
      "execution_count": 38,
      "outputs": []
    },
    {
      "cell_type": "code",
      "source": [
        "print(x)"
      ],
      "metadata": {
        "colab": {
          "base_uri": "https://localhost:8080/",
          "height": 0
        },
        "id": "l5MA-qg7qaXW",
        "outputId": "716a0e06-5255-408d-c162-4c860c414ba3"
      },
      "execution_count": 39,
      "outputs": [
        {
          "output_type": "stream",
          "name": "stdout",
          "text": [
            "[[1 'France' 44.0 72000.0 'No']\n",
            " [2 'Spain' 27.0 48000.0 'Yes']\n",
            " [3 'Germany' 30.0 54000.0 'No']\n",
            " [4 'Spain' 38.0 61000.0 'No']\n",
            " [5 'Germany' 40.0 nan 'Yes']\n",
            " [6 'France' 35.0 58000.0 'Yes']\n",
            " [7 'Spain' nan 52000.0 'No']\n",
            " [8 'France' 48.0 79000.0 'Yes']\n",
            " [9 'Germany' 50.0 83000.0 'No']\n",
            " [10 'France' 37.0 67000.0 'Yes']]\n"
          ]
        }
      ]
    },
    {
      "cell_type": "markdown",
      "source": [
        "Encoding Categorical Data"
      ],
      "metadata": {
        "id": "ER-xHYWxqn4x"
      }
    },
    {
      "cell_type": "markdown",
      "source": [
        "Encoding the Independent Variable"
      ],
      "metadata": {
        "id": "iOyW4Dx3sC1I"
      }
    },
    {
      "cell_type": "code",
      "source": [
        "from sklearn.compose import ColumnTransformer\n",
        "from sklearn.preprocessing import OneHotEncoder\n",
        "ct=ColumnTransformer(transformers=[('encoder',OneHotEncoder(),[1])],remainder='passthrough')\n",
        "X=np.array(ct.fit_transform(x))"
      ],
      "metadata": {
        "id": "XjoDRftsq83Y"
      },
      "execution_count": 40,
      "outputs": []
    },
    {
      "cell_type": "code",
      "source": [
        "print(x)"
      ],
      "metadata": {
        "colab": {
          "base_uri": "https://localhost:8080/",
          "height": 0
        },
        "id": "Hx5pFNPEtkVH",
        "outputId": "3713c610-2127-4f67-fbd4-60687a05366d"
      },
      "execution_count": 41,
      "outputs": [
        {
          "output_type": "stream",
          "name": "stdout",
          "text": [
            "[[1 'France' 44.0 72000.0 'No']\n",
            " [2 'Spain' 27.0 48000.0 'Yes']\n",
            " [3 'Germany' 30.0 54000.0 'No']\n",
            " [4 'Spain' 38.0 61000.0 'No']\n",
            " [5 'Germany' 40.0 nan 'Yes']\n",
            " [6 'France' 35.0 58000.0 'Yes']\n",
            " [7 'Spain' nan 52000.0 'No']\n",
            " [8 'France' 48.0 79000.0 'Yes']\n",
            " [9 'Germany' 50.0 83000.0 'No']\n",
            " [10 'France' 37.0 67000.0 'Yes']]\n"
          ]
        }
      ]
    },
    {
      "cell_type": "markdown",
      "source": [
        "Encoding the Dependent Variable"
      ],
      "metadata": {
        "id": "iX5JaIYatrRn"
      }
    },
    {
      "cell_type": "code",
      "source": [
        "from sklearn.preprocessing import LabelEncoder\n",
        "le=LabelEncoder()\n",
        "y=le.fit_transform(y)"
      ],
      "metadata": {
        "id": "yl7SHqFttpsO"
      },
      "execution_count": 42,
      "outputs": []
    },
    {
      "cell_type": "code",
      "source": [
        "print(y)"
      ],
      "metadata": {
        "id": "lh26s9L_uDy2"
      },
      "execution_count": null,
      "outputs": []
    },
    {
      "cell_type": "markdown",
      "source": [
        "Splitting the dataset into the Training set and Test set"
      ],
      "metadata": {
        "id": "Gbj6R5BLYiAo"
      }
    },
    {
      "cell_type": "code",
      "source": [
        "from sklearn.model_selection import train_test_split\n",
        "X_train, X_test, y_train, y_test = train_test_split(X,y, test_size = 0.2, random_state = 1)"
      ],
      "metadata": {
        "id": "vv3mv7vEYhnp"
      },
      "execution_count": 44,
      "outputs": []
    },
    {
      "cell_type": "code",
      "source": [
        "print(X_train)"
      ],
      "metadata": {
        "colab": {
          "base_uri": "https://localhost:8080/",
          "height": 0
        },
        "id": "ltTrGIZaaJF3",
        "outputId": "7562b9ea-9f43-4696-c140-75d0f2f9fcf4"
      },
      "execution_count": 45,
      "outputs": [
        {
          "output_type": "stream",
          "name": "stdout",
          "text": [
            "[[0.0 0.0 1.0 7 nan 52000.0 'No']\n",
            " [0.0 1.0 0.0 5 40.0 nan 'Yes']\n",
            " [1.0 0.0 0.0 1 44.0 72000.0 'No']\n",
            " [0.0 0.0 1.0 4 38.0 61000.0 'No']\n",
            " [0.0 0.0 1.0 2 27.0 48000.0 'Yes']\n",
            " [1.0 0.0 0.0 8 48.0 79000.0 'Yes']\n",
            " [0.0 1.0 0.0 9 50.0 83000.0 'No']\n",
            " [1.0 0.0 0.0 6 35.0 58000.0 'Yes']]\n"
          ]
        }
      ]
    },
    {
      "cell_type": "code",
      "source": [
        "print(X_test)"
      ],
      "metadata": {
        "colab": {
          "base_uri": "https://localhost:8080/",
          "height": 0
        },
        "id": "j-rLXrjmbtIn",
        "outputId": "9207366f-727c-4907-835b-2ca43b17ca9f"
      },
      "execution_count": 46,
      "outputs": [
        {
          "output_type": "stream",
          "name": "stdout",
          "text": [
            "[[0.0 1.0 0.0 3 30.0 54000.0 'No']\n",
            " [1.0 0.0 0.0 10 37.0 67000.0 'Yes']]\n"
          ]
        }
      ]
    },
    {
      "cell_type": "code",
      "source": [
        "print(y_train)"
      ],
      "metadata": {
        "id": "FqHyK7Enb6Fu"
      },
      "execution_count": null,
      "outputs": []
    },
    {
      "cell_type": "code",
      "source": [
        "print(y_test)"
      ],
      "metadata": {
        "id": "61UVVw9ybxgu"
      },
      "execution_count": null,
      "outputs": []
    },
    {
      "cell_type": "markdown",
      "source": [
        "feature Scaling"
      ],
      "metadata": {
        "id": "JYN1oaemcjBW"
      }
    },
    {
      "cell_type": "code",
      "source": [
        "from sklearn.preprocessing import StandardScaler\n",
        "sc = StandardScaler()\n",
        "X_train = sc.fit_transform(X_train)\n",
        "X_test = sc.transform(X_test)"
      ],
      "metadata": {
        "id": "Ecmk7X5Tclm_"
      },
      "execution_count": null,
      "outputs": []
    },
    {
      "cell_type": "code",
      "source": [
        "print(X_train)"
      ],
      "metadata": {
        "colab": {
          "base_uri": "https://localhost:8080/"
        },
        "id": "KdMy5pz-dpPl",
        "outputId": "a17adc6c-616e-4226-a372-c87eb65574c6"
      },
      "execution_count": null,
      "outputs": [
        {
          "output_type": "stream",
          "name": "stdout",
          "text": [
            "[[0.0 0.0 0.0 0.0 0.0 0.0 1.0 0.0 0.0 0.0 'Spain' nan 52000.0 'No']\n",
            " [0.0 0.0 0.0 0.0 1.0 0.0 0.0 0.0 0.0 0.0 'Germany' 40.0 nan 'Yes']\n",
            " [1.0 0.0 0.0 0.0 0.0 0.0 0.0 0.0 0.0 0.0 'France' 44.0 72000.0 'No']\n",
            " [0.0 0.0 0.0 1.0 0.0 0.0 0.0 0.0 0.0 0.0 'Spain' 38.0 61000.0 'No']\n",
            " [0.0 1.0 0.0 0.0 0.0 0.0 0.0 0.0 0.0 0.0 'Spain' 27.0 48000.0 'Yes']\n",
            " [0.0 0.0 0.0 0.0 0.0 0.0 0.0 1.0 0.0 0.0 'France' 48.0 79000.0 'Yes']\n",
            " [0.0 0.0 0.0 0.0 0.0 0.0 0.0 0.0 1.0 0.0 'Germany' 50.0 83000.0 'No']\n",
            " [0.0 0.0 0.0 0.0 0.0 1.0 0.0 0.0 0.0 0.0 'France' 35.0 58000.0 'Yes']]\n"
          ]
        }
      ]
    },
    {
      "cell_type": "code",
      "source": [
        "print(X_test)"
      ],
      "metadata": {
        "colab": {
          "base_uri": "https://localhost:8080/"
        },
        "id": "S8ami7vRdv4N",
        "outputId": "3a07d985-0622-462a-b957-3be2439397c6"
      },
      "execution_count": null,
      "outputs": [
        {
          "output_type": "stream",
          "name": "stdout",
          "text": [
            "[[0.0 0.0 1.0 0.0 0.0 0.0 0.0 0.0 0.0 0.0 'Germany' 30.0 54000.0 'No']\n",
            " [0.0 0.0 0.0 0.0 0.0 0.0 0.0 0.0 0.0 1.0 'France' 37.0 67000.0 'Yes']]\n"
          ]
        }
      ]
    }
  ]
}