{
  "nbformat": 4,
  "nbformat_minor": 0,
  "metadata": {
    "colab": {
      "provenance": [],
      "authorship_tag": "ABX9TyNCAa/s5KeUqxt/E/dXvpD7",
      "include_colab_link": true
    },
    "kernelspec": {
      "name": "python3",
      "display_name": "Python 3"
    },
    "language_info": {
      "name": "python"
    }
  },
  "cells": [
    {
      "cell_type": "markdown",
      "metadata": {
        "id": "view-in-github",
        "colab_type": "text"
      },
      "source": [
        "<a href=\"https://colab.research.google.com/github/jainavnish421/Machine-Learning/blob/main/ML_lab_1_14_02_23.ipynb\" target=\"_parent\"><img src=\"https://colab.research.google.com/assets/colab-badge.svg\" alt=\"Open In Colab\"/></a>"
      ]
    },
    {
      "cell_type": "code",
      "execution_count": null,
      "metadata": {
        "id": "xnTIW5d2Ifqv"
      },
      "outputs": [],
      "source": [
        "# 14/02/2023\n",
        "\n",
        "# square of any natural no.\n",
        "val = int(input(\"Enter your value: \"))\n",
        "for x in range(1,val+1):\n",
        "  print('Square of ',x,' is ', pow(x,2))\n"
      ]
    },
    {
      "cell_type": "code",
      "source": [
        "# 14/02/2023\n",
        "\n",
        "# count no. of spaces in string\n",
        "st=('I am Avnish Jain')\n",
        "li=[0 for i in range(len(st)) if st[i]==' ']\n",
        "print(len(li))"
      ],
      "metadata": {
        "id": "cqj5W0-tQbX_"
      },
      "execution_count": null,
      "outputs": []
    },
    {
      "cell_type": "code",
      "source": [
        "# 14/02/2023\n",
        "\n",
        "# print table of 5 using list\n",
        "for x in range(1,10+1):\n",
        "  print('5 x',x,' = ',5*x)"
      ],
      "metadata": {
        "id": "wzno0vXDQsMv"
      },
      "execution_count": null,
      "outputs": []
    },
    {
      "cell_type": "code",
      "source": [
        "# 14/02/2023\n",
        "\n",
        "# Data processing tool\n",
        "import numpy as np\n",
        "import matplotlib.pyplot as plt\n",
        "import pandas as pd\n",
        "\n",
        "dataset = pd.read_csv('Data.csv')\n",
        "x=dataset.iloc[:,:-1].values\n",
        "y=dataset.iloc[:,-2].values\n",
        "\n",
        "print(x)\n",
        "print(y)"
      ],
      "metadata": {
        "id": "wgcEMgVETrVd"
      },
      "execution_count": null,
      "outputs": []
    },
    {
      "cell_type": "code",
      "source": [
        "# 15/02/2023\n",
        "\n",
        "#count number of 6 between 1 to 1000\n",
        "count = 0\n",
        "for i in range(1, 1001):\n",
        "    count += str(i).count('6')\n",
        "print(count)\n"
      ],
      "metadata": {
        "id": "q2HudyZ-r8xL"
      },
      "execution_count": null,
      "outputs": []
    },
    {
      "cell_type": "code",
      "source": [
        "# 15/02/2023\n",
        "\n",
        "# Find number between 1 to 1000 divisible by 2 & 5\n",
        "for x in range(1,1000):\n",
        "  if (x%2==0):\n",
        "    if (x%5==0):\n",
        "      print(x)\n"
      ],
      "metadata": {
        "id": "JjLhZQKTtEiI"
      },
      "execution_count": null,
      "outputs": []
    }
  ]
}