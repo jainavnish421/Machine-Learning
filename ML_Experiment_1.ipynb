{
  "nbformat": 4,
  "nbformat_minor": 0,
  "metadata": {
    "colab": {
      "provenance": [],
      "authorship_tag": "ABX9TyP85ISpJWzXI1DA4SFU9Dk8",
      "include_colab_link": true
    },
    "kernelspec": {
      "name": "python3",
      "display_name": "Python 3"
    },
    "language_info": {
      "name": "python"
    }
  },
  "cells": [
    {
      "cell_type": "markdown",
      "metadata": {
        "id": "view-in-github",
        "colab_type": "text"
      },
      "source": [
        "<a href=\"https://colab.research.google.com/github/jainavnish421/Machine-Learning/blob/main/ML_Experiment_1.ipynb\" target=\"_parent\"><img src=\"https://colab.research.google.com/assets/colab-badge.svg\" alt=\"Open In Colab\"/></a>"
      ]
    },
    {
      "cell_type": "code",
      "execution_count": 1,
      "metadata": {
        "colab": {
          "base_uri": "https://localhost:8080/"
        },
        "id": "nU_SaBzAi8Ao",
        "outputId": "ce8aacc3-7485-4224-ed1f-a328941b21ee"
      },
      "outputs": [
        {
          "output_type": "stream",
          "name": "stdout",
          "text": [
            "Enter your value: 2\n",
            "Square of  1  is  1\n",
            "Square of  2  is  4\n"
          ]
        }
      ],
      "source": [
        "# 14/02/2023\n",
        "\n",
        "# square of any natural no.\n",
        "val = int(input(\"Enter your value: \"))\n",
        "for x in range(1,val+1):\n",
        "  print('Square of ',x,' is ', pow(x,2))"
      ]
    },
    {
      "cell_type": "code",
      "source": [
        "# 14/02/2023\n",
        "\n",
        "# count no. of spaces in string\n",
        "\n",
        "st=('I am Avnish Jain')\n",
        "li=[0 for i in range(len(st)) if st[i]==' ']\n",
        "print(len(li))"
      ],
      "metadata": {
        "colab": {
          "base_uri": "https://localhost:8080/"
        },
        "id": "e7mUpweQjILi",
        "outputId": "e863175e-401b-4c92-aaa2-877484e4ceee"
      },
      "execution_count": 2,
      "outputs": [
        {
          "output_type": "stream",
          "name": "stdout",
          "text": [
            "3\n"
          ]
        }
      ]
    },
    {
      "cell_type": "code",
      "source": [
        "# 14/02/2023\n",
        "\n",
        "# print table of 5 using list\n",
        "for x in range(1,10+1):\n",
        "  print('5 x',x,' = ',5*x)"
      ],
      "metadata": {
        "colab": {
          "base_uri": "https://localhost:8080/"
        },
        "id": "IVWnRspljNif",
        "outputId": "d68d9ae6-aa77-43eb-d0e9-a0d00d1c2907"
      },
      "execution_count": 3,
      "outputs": [
        {
          "output_type": "stream",
          "name": "stdout",
          "text": [
            "5 x 1  =  5\n",
            "5 x 2  =  10\n",
            "5 x 3  =  15\n",
            "5 x 4  =  20\n",
            "5 x 5  =  25\n",
            "5 x 6  =  30\n",
            "5 x 7  =  35\n",
            "5 x 8  =  40\n",
            "5 x 9  =  45\n",
            "5 x 10  =  50\n"
          ]
        }
      ]
    }
  ]
}