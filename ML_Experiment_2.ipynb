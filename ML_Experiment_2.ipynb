{
  "nbformat": 4,
  "nbformat_minor": 0,
  "metadata": {
    "colab": {
      "provenance": [],
      "authorship_tag": "ABX9TyNIObG2aMphJsQFK2Q9QxLV",
      "include_colab_link": true
    },
    "kernelspec": {
      "name": "python3",
      "display_name": "Python 3"
    },
    "language_info": {
      "name": "python"
    }
  },
  "cells": [
    {
      "cell_type": "markdown",
      "metadata": {
        "id": "view-in-github",
        "colab_type": "text"
      },
      "source": [
        "<a href=\"https://colab.research.google.com/github/jainavnish421/Machine-Learning/blob/main/ML_Experiment_2.ipynb\" target=\"_parent\"><img src=\"https://colab.research.google.com/assets/colab-badge.svg\" alt=\"Open In Colab\"/></a>"
      ]
    },
    {
      "cell_type": "code",
      "execution_count": 1,
      "metadata": {
        "colab": {
          "base_uri": "https://localhost:8080/"
        },
        "id": "QhMIJfKxjbeP",
        "outputId": "f8921dd4-fcbb-4073-c79e-0f3a26baf7ea"
      },
      "outputs": [
        {
          "output_type": "stream",
          "name": "stdout",
          "text": [
            "Enter your value: 2\n",
            "Square of  1  is  1\n",
            "Square of  2  is  4\n"
          ]
        }
      ],
      "source": [
        "# 14/02/2023\n",
        "\n",
        "# square of any natural no.\n",
        "val = int(input(\"Enter your value: \"))\n",
        "for x in range(1,val+1):\n",
        "  print('Square of ',x,' is ', pow(x,2))"
      ]
    },
    {
      "cell_type": "code",
      "source": [
        "# 14/02/2023\n",
        "\n",
        "# count no. of spaces in string\n",
        "\n",
        "st=('I am Avnish Jain')\n",
        "li=[0 for i in range(len(st)) if st[i]==' ']\n",
        "print(len(li))"
      ],
      "metadata": {
        "colab": {
          "base_uri": "https://localhost:8080/"
        },
        "id": "PRVNQ8NJjr74",
        "outputId": "b99655eb-eed1-4cc5-ddea-66f9e550dc5b"
      },
      "execution_count": 2,
      "outputs": [
        {
          "output_type": "stream",
          "name": "stdout",
          "text": [
            "3\n"
          ]
        }
      ]
    },
    {
      "cell_type": "code",
      "source": [
        "# 14/02/2023\n",
        "\n",
        "# print table of 5 using list\n",
        "for x in range(1,10+1):\n",
        "  print('5 x',x,' = ',5*x)"
      ],
      "metadata": {
        "colab": {
          "base_uri": "https://localhost:8080/"
        },
        "id": "436ThPcQjwew",
        "outputId": "76aed2e1-d333-4fec-fedf-b5cab5247228"
      },
      "execution_count": 3,
      "outputs": [
        {
          "output_type": "stream",
          "name": "stdout",
          "text": [
            "5 x 1  =  5\n",
            "5 x 2  =  10\n",
            "5 x 3  =  15\n",
            "5 x 4  =  20\n",
            "5 x 5  =  25\n",
            "5 x 6  =  30\n",
            "5 x 7  =  35\n",
            "5 x 8  =  40\n",
            "5 x 9  =  45\n",
            "5 x 10  =  50\n"
          ]
        }
      ]
    },
    {
      "cell_type": "code",
      "source": [
        "# 15/02/2023\n",
        "\n",
        "#count number of 6 between 1 to 1000\n",
        "count = 0\n",
        "for i in range(1, 1001):\n",
        "    count += str(i).count('6')\n",
        "print(count)"
      ],
      "metadata": {
        "colab": {
          "base_uri": "https://localhost:8080/"
        },
        "id": "W1zTmppBjx__",
        "outputId": "6d7eab8c-db69-4795-9cef-bf7f3e6488f3"
      },
      "execution_count": 4,
      "outputs": [
        {
          "output_type": "stream",
          "name": "stdout",
          "text": [
            "300\n"
          ]
        }
      ]
    },
    {
      "cell_type": "code",
      "source": [
        "# 15/02/2023\n",
        "\n",
        "# Find number between 1 to 1000 divisible by 2 & 5\n",
        "for x in range(1,1000):\n",
        "  if (x%2==0):\n",
        "    if (x%5==0):\n",
        "      print(x)"
      ],
      "metadata": {
        "colab": {
          "base_uri": "https://localhost:8080/"
        },
        "id": "5QbQVHuMj2-w",
        "outputId": "e46b3af9-ee03-499e-f253-2748a3d65b11"
      },
      "execution_count": 5,
      "outputs": [
        {
          "output_type": "stream",
          "name": "stdout",
          "text": [
            "10\n",
            "20\n",
            "30\n",
            "40\n",
            "50\n",
            "60\n",
            "70\n",
            "80\n",
            "90\n",
            "100\n",
            "110\n",
            "120\n",
            "130\n",
            "140\n",
            "150\n",
            "160\n",
            "170\n",
            "180\n",
            "190\n",
            "200\n",
            "210\n",
            "220\n",
            "230\n",
            "240\n",
            "250\n",
            "260\n",
            "270\n",
            "280\n",
            "290\n",
            "300\n",
            "310\n",
            "320\n",
            "330\n",
            "340\n",
            "350\n",
            "360\n",
            "370\n",
            "380\n",
            "390\n",
            "400\n",
            "410\n",
            "420\n",
            "430\n",
            "440\n",
            "450\n",
            "460\n",
            "470\n",
            "480\n",
            "490\n",
            "500\n",
            "510\n",
            "520\n",
            "530\n",
            "540\n",
            "550\n",
            "560\n",
            "570\n",
            "580\n",
            "590\n",
            "600\n",
            "610\n",
            "620\n",
            "630\n",
            "640\n",
            "650\n",
            "660\n",
            "670\n",
            "680\n",
            "690\n",
            "700\n",
            "710\n",
            "720\n",
            "730\n",
            "740\n",
            "750\n",
            "760\n",
            "770\n",
            "780\n",
            "790\n",
            "800\n",
            "810\n",
            "820\n",
            "830\n",
            "840\n",
            "850\n",
            "860\n",
            "870\n",
            "880\n",
            "890\n",
            "900\n",
            "910\n",
            "920\n",
            "930\n",
            "940\n",
            "950\n",
            "960\n",
            "970\n",
            "980\n",
            "990\n"
          ]
        }
      ]
    }
  ]
}